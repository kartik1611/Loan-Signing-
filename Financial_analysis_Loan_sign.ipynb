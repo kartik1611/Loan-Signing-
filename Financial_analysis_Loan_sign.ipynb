{
 "cells": [
  {
   "cell_type": "code",
   "execution_count": 1,
   "metadata": {},
   "outputs": [],
   "source": [
    "import pandas as pd\n",
    "import numpy as np\n",
    "import seaborn as sn\n",
    "import matplotlib.pyplot as plt\n",
    "import os\n",
    "import time"
   ]
  },
  {
   "cell_type": "code",
   "execution_count": 2,
   "metadata": {},
   "outputs": [
    {
     "data": {
      "text/html": [
       "<div>\n",
       "<style scoped>\n",
       "    .dataframe tbody tr th:only-of-type {\n",
       "        vertical-align: middle;\n",
       "    }\n",
       "\n",
       "    .dataframe tbody tr th {\n",
       "        vertical-align: top;\n",
       "    }\n",
       "\n",
       "    .dataframe thead th {\n",
       "        text-align: right;\n",
       "    }\n",
       "</style>\n",
       "<table border=\"1\" class=\"dataframe\">\n",
       "  <thead>\n",
       "    <tr style=\"text-align: right;\">\n",
       "      <th></th>\n",
       "      <th>entry_id</th>\n",
       "      <th>age</th>\n",
       "      <th>pay_schedule</th>\n",
       "      <th>home_owner</th>\n",
       "      <th>income</th>\n",
       "      <th>months_employed</th>\n",
       "      <th>years_employed</th>\n",
       "      <th>current_address_year</th>\n",
       "      <th>personal_account_m</th>\n",
       "      <th>personal_account_y</th>\n",
       "      <th>...</th>\n",
       "      <th>amount_requested</th>\n",
       "      <th>risk_score</th>\n",
       "      <th>risk_score_2</th>\n",
       "      <th>risk_score_3</th>\n",
       "      <th>risk_score_4</th>\n",
       "      <th>risk_score_5</th>\n",
       "      <th>ext_quality_score</th>\n",
       "      <th>ext_quality_score_2</th>\n",
       "      <th>inquiries_last_month</th>\n",
       "      <th>e_signed</th>\n",
       "    </tr>\n",
       "  </thead>\n",
       "  <tbody>\n",
       "    <tr>\n",
       "      <th>17903</th>\n",
       "      <td>9949728</td>\n",
       "      <td>31</td>\n",
       "      <td>monthly</td>\n",
       "      <td>0</td>\n",
       "      <td>3245</td>\n",
       "      <td>0</td>\n",
       "      <td>5</td>\n",
       "      <td>3</td>\n",
       "      <td>2</td>\n",
       "      <td>6</td>\n",
       "      <td>...</td>\n",
       "      <td>700</td>\n",
       "      <td>71700</td>\n",
       "      <td>0.691126</td>\n",
       "      <td>0.928196</td>\n",
       "      <td>0.664112</td>\n",
       "      <td>0.838012</td>\n",
       "      <td>0.727705</td>\n",
       "      <td>0.627705</td>\n",
       "      <td>2</td>\n",
       "      <td>0</td>\n",
       "    </tr>\n",
       "    <tr>\n",
       "      <th>17904</th>\n",
       "      <td>9442442</td>\n",
       "      <td>46</td>\n",
       "      <td>bi-weekly</td>\n",
       "      <td>0</td>\n",
       "      <td>6525</td>\n",
       "      <td>0</td>\n",
       "      <td>2</td>\n",
       "      <td>1</td>\n",
       "      <td>3</td>\n",
       "      <td>3</td>\n",
       "      <td>...</td>\n",
       "      <td>800</td>\n",
       "      <td>51800</td>\n",
       "      <td>0.648525</td>\n",
       "      <td>0.970832</td>\n",
       "      <td>0.699241</td>\n",
       "      <td>0.844724</td>\n",
       "      <td>0.774918</td>\n",
       "      <td>0.474918</td>\n",
       "      <td>3</td>\n",
       "      <td>0</td>\n",
       "    </tr>\n",
       "    <tr>\n",
       "      <th>17905</th>\n",
       "      <td>9857590</td>\n",
       "      <td>46</td>\n",
       "      <td>weekly</td>\n",
       "      <td>0</td>\n",
       "      <td>2685</td>\n",
       "      <td>0</td>\n",
       "      <td>5</td>\n",
       "      <td>1</td>\n",
       "      <td>1</td>\n",
       "      <td>8</td>\n",
       "      <td>...</td>\n",
       "      <td>1200</td>\n",
       "      <td>59650</td>\n",
       "      <td>0.677975</td>\n",
       "      <td>0.918141</td>\n",
       "      <td>0.687981</td>\n",
       "      <td>0.939101</td>\n",
       "      <td>0.472045</td>\n",
       "      <td>0.672045</td>\n",
       "      <td>9</td>\n",
       "      <td>0</td>\n",
       "    </tr>\n",
       "    <tr>\n",
       "      <th>17906</th>\n",
       "      <td>8708471</td>\n",
       "      <td>42</td>\n",
       "      <td>bi-weekly</td>\n",
       "      <td>0</td>\n",
       "      <td>2515</td>\n",
       "      <td>0</td>\n",
       "      <td>3</td>\n",
       "      <td>5</td>\n",
       "      <td>6</td>\n",
       "      <td>1</td>\n",
       "      <td>...</td>\n",
       "      <td>400</td>\n",
       "      <td>80200</td>\n",
       "      <td>0.642741</td>\n",
       "      <td>0.885684</td>\n",
       "      <td>0.456448</td>\n",
       "      <td>0.686823</td>\n",
       "      <td>0.406568</td>\n",
       "      <td>0.406568</td>\n",
       "      <td>3</td>\n",
       "      <td>1</td>\n",
       "    </tr>\n",
       "    <tr>\n",
       "      <th>17907</th>\n",
       "      <td>1498559</td>\n",
       "      <td>29</td>\n",
       "      <td>weekly</td>\n",
       "      <td>1</td>\n",
       "      <td>2665</td>\n",
       "      <td>0</td>\n",
       "      <td>4</td>\n",
       "      <td>10</td>\n",
       "      <td>4</td>\n",
       "      <td>1</td>\n",
       "      <td>...</td>\n",
       "      <td>600</td>\n",
       "      <td>64950</td>\n",
       "      <td>0.720889</td>\n",
       "      <td>0.874372</td>\n",
       "      <td>0.505565</td>\n",
       "      <td>0.631619</td>\n",
       "      <td>0.846163</td>\n",
       "      <td>0.846163</td>\n",
       "      <td>4</td>\n",
       "      <td>1</td>\n",
       "    </tr>\n",
       "  </tbody>\n",
       "</table>\n",
       "<p>5 rows × 21 columns</p>\n",
       "</div>"
      ],
      "text/plain": [
       "       entry_id  age pay_schedule  home_owner  income  months_employed  \\\n",
       "17903   9949728   31      monthly           0    3245                0   \n",
       "17904   9442442   46    bi-weekly           0    6525                0   \n",
       "17905   9857590   46       weekly           0    2685                0   \n",
       "17906   8708471   42    bi-weekly           0    2515                0   \n",
       "17907   1498559   29       weekly           1    2665                0   \n",
       "\n",
       "       years_employed  current_address_year  personal_account_m  \\\n",
       "17903               5                     3                   2   \n",
       "17904               2                     1                   3   \n",
       "17905               5                     1                   1   \n",
       "17906               3                     5                   6   \n",
       "17907               4                    10                   4   \n",
       "\n",
       "       personal_account_y    ...     amount_requested  risk_score  \\\n",
       "17903                   6    ...                  700       71700   \n",
       "17904                   3    ...                  800       51800   \n",
       "17905                   8    ...                 1200       59650   \n",
       "17906                   1    ...                  400       80200   \n",
       "17907                   1    ...                  600       64950   \n",
       "\n",
       "       risk_score_2  risk_score_3  risk_score_4  risk_score_5  \\\n",
       "17903      0.691126      0.928196      0.664112      0.838012   \n",
       "17904      0.648525      0.970832      0.699241      0.844724   \n",
       "17905      0.677975      0.918141      0.687981      0.939101   \n",
       "17906      0.642741      0.885684      0.456448      0.686823   \n",
       "17907      0.720889      0.874372      0.505565      0.631619   \n",
       "\n",
       "       ext_quality_score  ext_quality_score_2  inquiries_last_month  e_signed  \n",
       "17903           0.727705             0.627705                     2         0  \n",
       "17904           0.774918             0.474918                     3         0  \n",
       "17905           0.472045             0.672045                     9         0  \n",
       "17906           0.406568             0.406568                     3         1  \n",
       "17907           0.846163             0.846163                     4         1  \n",
       "\n",
       "[5 rows x 21 columns]"
      ]
     },
     "execution_count": 2,
     "metadata": {},
     "output_type": "execute_result"
    }
   ],
   "source": [
    "os.chdir(\"F://buffalo//buffalo project//css financial data\")\n",
    "data=pd.read_csv(\"financial_data.csv\")\n",
    "data.tail()"
   ]
  },
  {
   "cell_type": "markdown",
   "metadata": {},
   "source": [
    "# Cleaning Data"
   ]
  },
  {
   "cell_type": "code",
   "execution_count": 3,
   "metadata": {},
   "outputs": [
    {
     "data": {
      "text/plain": [
       "['entry_id',\n",
       " 'age',\n",
       " 'pay_schedule',\n",
       " 'home_owner',\n",
       " 'income',\n",
       " 'months_employed',\n",
       " 'years_employed',\n",
       " 'current_address_year',\n",
       " 'personal_account_m',\n",
       " 'personal_account_y',\n",
       " 'has_debt',\n",
       " 'amount_requested',\n",
       " 'risk_score',\n",
       " 'risk_score_2',\n",
       " 'risk_score_3',\n",
       " 'risk_score_4',\n",
       " 'risk_score_5',\n",
       " 'ext_quality_score',\n",
       " 'ext_quality_score_2',\n",
       " 'inquiries_last_month',\n",
       " 'e_signed']"
      ]
     },
     "execution_count": 3,
     "metadata": {},
     "output_type": "execute_result"
    }
   ],
   "source": [
    "data.isna().any() # checking for NA , luckily no NA values\n",
    "list(data)"
   ]
  },
  {
   "cell_type": "markdown",
   "metadata": {},
   "source": [
    "# Histograms"
   ]
  },
  {
   "cell_type": "code",
   "execution_count": 4,
   "metadata": {},
   "outputs": [
    {
     "data": {
      "image/png": "[encoded data removed]",
      "text/plain": [
       "<Figure size 1080x864 with 18 Axes>"
      ]
     },
     "metadata": {
      "needs_background": "light"
     },
     "output_type": "display_data"
    }
   ],
   "source": [
    "data2=data.drop(columns=['entry_id','e_signed','pay_schedule'])\n",
    "\n",
    "#data2 has only numerical attributes\n",
    "fig=plt.figure(figsize=(15,12))\n",
    "plt.suptitle(\"histogram of numerical columns\", fontsize=20)\n",
    "for i in range(data2.shape[1]):\n",
    "    plt.subplot(6,3,i+1)\n",
    "    f=plt.gca()\n",
    "    f.set_title(data2.columns.values[i])\n",
    "    vals=np.size(data2.iloc[:,i].unique())\n",
    "    if vals>=100:\n",
    "        vals=100\n",
    "    plt.hist(data2.iloc[:,i],bins=vals,color=\"#3F5D7D\") \n",
    "plt.tight_layout(rect=[0, 0.03, 1, 0.95])\n"
   ]
  },
  {
   "cell_type": "markdown",
   "metadata": {},
   "source": [
    "# correlation "
   ]
  },
  {
   "cell_type": "code",
   "execution_count": 5,
   "metadata": {},
   "outputs": [
    {
     "data": {
      "text/plain": [
       "<matplotlib.axes._subplots.AxesSubplot at 0x71f24f4978>"
      ]
     },
     "execution_count": 5,
     "metadata": {},
     "output_type": "execute_result"
    },
    {
     "data": {
      "image/png": "[encoded data removed]",
      "text/plain": [
       "<Figure size 720x720 with 1 Axes>"
      ]
     },
     "metadata": {
      "needs_background": "light"
     },
     "output_type": "display_data"
    }
   ],
   "source": [
    "data2.corrwith(data.e_signed).plot.bar(figsize=(10,10),title=\"corelation wrt esigned\",\n",
    "fontsize=15,grid=True,rot=90)           "
   ]
  },
  {
   "cell_type": "markdown",
   "metadata": {},
   "source": [
    "# corelation matrix"
   ]
  },
  {
   "cell_type": "code",
   "execution_count": 6,
   "metadata": {},
   "outputs": [
    {
     "data": {
      "text/plain": [
       "<matplotlib.axes._subplots.AxesSubplot at 0x71f2103f28>"
      ]
     },
     "execution_count": 6,
     "metadata": {},
     "output_type": "execute_result"
    },
    {
     "data": {
      "image/png": "[encoded data removed]",
      "text/plain": [
       "<Figure size 1296x1080 with 2 Axes>"
      ]
     },
     "metadata": {},
     "output_type": "display_data"
    }
   ],
   "source": [
    "sn.set(style=\"white\")\n",
    "corr=data2.corr()\n",
    "mask=np.zeros_like(corr,dtype=np.bool)\n",
    "mask[np.triu_indices_from(mask)]=True\n",
    "f,ax=plt.subplots(figsize=(18,15))\n",
    "cmap=sn.diverging_palette(220,10,as_cmap=True)\n",
    "sn.heatmap(corr,mask=mask,cmap=cmap,vmax=.3,square=True,linewidths=.5,\n",
    "          cbar_kws={\"shrink\":.5})"
   ]
  },
  {
   "cell_type": "markdown",
   "metadata": {},
   "source": [
    "# Feature Engineering"
   ]
  },
  {
   "cell_type": "code",
   "execution_count": 7,
   "metadata": {},
   "outputs": [
    {
     "data": {
      "text/html": [
       "<div>\n",
       "<style scoped>\n",
       "    .dataframe tbody tr th:only-of-type {\n",
       "        vertical-align: middle;\n",
       "    }\n",
       "\n",
       "    .dataframe tbody tr th {\n",
       "        vertical-align: top;\n",
       "    }\n",
       "\n",
       "    .dataframe thead th {\n",
       "        text-align: right;\n",
       "    }\n",
       "</style>\n",
       "<table border=\"1\" class=\"dataframe\">\n",
       "  <thead>\n",
       "    <tr style=\"text-align: right;\">\n",
       "      <th></th>\n",
       "      <th>personal_account_m</th>\n",
       "      <th>personal_account_y</th>\n",
       "      <th>personal</th>\n",
       "    </tr>\n",
       "  </thead>\n",
       "  <tbody>\n",
       "    <tr>\n",
       "      <th>17903</th>\n",
       "      <td>2</td>\n",
       "      <td>6</td>\n",
       "      <td>74</td>\n",
       "    </tr>\n",
       "    <tr>\n",
       "      <th>17904</th>\n",
       "      <td>3</td>\n",
       "      <td>3</td>\n",
       "      <td>39</td>\n",
       "    </tr>\n",
       "    <tr>\n",
       "      <th>17905</th>\n",
       "      <td>1</td>\n",
       "      <td>8</td>\n",
       "      <td>97</td>\n",
       "    </tr>\n",
       "    <tr>\n",
       "      <th>17906</th>\n",
       "      <td>6</td>\n",
       "      <td>1</td>\n",
       "      <td>18</td>\n",
       "    </tr>\n",
       "    <tr>\n",
       "      <th>17907</th>\n",
       "      <td>4</td>\n",
       "      <td>1</td>\n",
       "      <td>16</td>\n",
       "    </tr>\n",
       "  </tbody>\n",
       "</table>\n",
       "</div>"
      ],
      "text/plain": [
       "       personal_account_m  personal_account_y  personal\n",
       "17903                   2                   6        74\n",
       "17904                   3                   3        39\n",
       "17905                   1                   8        97\n",
       "17906                   6                   1        18\n",
       "17907                   4                   1        16"
      ]
     },
     "execution_count": 7,
     "metadata": {},
     "output_type": "execute_result"
    }
   ],
   "source": [
    "data[\"personal\"]=(data.personal_account_m+(data.personal_account_y*12))\n",
    "data[['personal_account_m', 'personal_account_y', 'personal']].tail()\n"
   ]
  },
  {
   "cell_type": "code",
   "execution_count": 8,
   "metadata": {},
   "outputs": [],
   "source": [
    "data=data.drop(columns=[\"personal_account_m\",\"personal_account_y\"])"
   ]
  },
  {
   "cell_type": "markdown",
   "metadata": {},
   "source": [
    "# data pre processing"
   ]
  },
  {
   "cell_type": "markdown",
   "metadata": {},
   "source": [
    "# one hot encoding"
   ]
  },
  {
   "cell_type": "code",
   "execution_count": 9,
   "metadata": {},
   "outputs": [
    {
     "data": {
      "text/plain": [
       "Index(['entry_id', 'age', 'home_owner', 'income', 'months_employed',\n",
       "       'years_employed', 'current_address_year', 'has_debt',\n",
       "       'amount_requested', 'risk_score', 'risk_score_2', 'risk_score_3',\n",
       "       'risk_score_4', 'risk_score_5', 'ext_quality_score',\n",
       "       'ext_quality_score_2', 'inquiries_last_month', 'e_signed', 'personal',\n",
       "       'pay_schedule_bi-weekly', 'pay_schedule_monthly',\n",
       "       'pay_schedule_semi-monthly', 'pay_schedule_weekly'],\n",
       "      dtype='object')"
      ]
     },
     "execution_count": 9,
     "metadata": {},
     "output_type": "execute_result"
    }
   ],
   "source": [
    "data=pd.get_dummies(data)\n",
    "data.columns\n"
   ]
  },
  {
   "cell_type": "code",
   "execution_count": 10,
   "metadata": {},
   "outputs": [],
   "source": [
    "data=data.drop(columns=[\"pay_schedule_semi-monthly\"])\n",
    "# removing extra columns\n",
    "response= data[\"e_signed\"]\n",
    "user=data['entry_id']\n",
    "data=data.drop(columns=[\"e_signed\",'entry_id'])"
   ]
  },
  {
   "cell_type": "code",
   "execution_count": 11,
   "metadata": {},
   "outputs": [
    {
     "data": {
      "text/html": [
       "<div>\n",
       "<style scoped>\n",
       "    .dataframe tbody tr th:only-of-type {\n",
       "        vertical-align: middle;\n",
       "    }\n",
       "\n",
       "    .dataframe tbody tr th {\n",
       "        vertical-align: top;\n",
       "    }\n",
       "\n",
       "    .dataframe thead th {\n",
       "        text-align: right;\n",
       "    }\n",
       "</style>\n",
       "<table border=\"1\" class=\"dataframe\">\n",
       "  <thead>\n",
       "    <tr style=\"text-align: right;\">\n",
       "      <th></th>\n",
       "      <th>age</th>\n",
       "      <th>home_owner</th>\n",
       "      <th>income</th>\n",
       "      <th>months_employed</th>\n",
       "      <th>years_employed</th>\n",
       "      <th>current_address_year</th>\n",
       "      <th>has_debt</th>\n",
       "      <th>amount_requested</th>\n",
       "      <th>risk_score</th>\n",
       "      <th>risk_score_2</th>\n",
       "      <th>risk_score_3</th>\n",
       "      <th>risk_score_4</th>\n",
       "      <th>risk_score_5</th>\n",
       "      <th>ext_quality_score</th>\n",
       "      <th>ext_quality_score_2</th>\n",
       "      <th>inquiries_last_month</th>\n",
       "      <th>personal</th>\n",
       "      <th>pay_schedule_bi-weekly</th>\n",
       "      <th>pay_schedule_monthly</th>\n",
       "      <th>pay_schedule_weekly</th>\n",
       "    </tr>\n",
       "  </thead>\n",
       "  <tbody>\n",
       "    <tr>\n",
       "      <th>17903</th>\n",
       "      <td>31</td>\n",
       "      <td>0</td>\n",
       "      <td>3245</td>\n",
       "      <td>0</td>\n",
       "      <td>5</td>\n",
       "      <td>3</td>\n",
       "      <td>1</td>\n",
       "      <td>700</td>\n",
       "      <td>71700</td>\n",
       "      <td>0.691126</td>\n",
       "      <td>0.928196</td>\n",
       "      <td>0.664112</td>\n",
       "      <td>0.838012</td>\n",
       "      <td>0.727705</td>\n",
       "      <td>0.627705</td>\n",
       "      <td>2</td>\n",
       "      <td>74</td>\n",
       "      <td>0</td>\n",
       "      <td>1</td>\n",
       "      <td>0</td>\n",
       "    </tr>\n",
       "    <tr>\n",
       "      <th>17904</th>\n",
       "      <td>46</td>\n",
       "      <td>0</td>\n",
       "      <td>6525</td>\n",
       "      <td>0</td>\n",
       "      <td>2</td>\n",
       "      <td>1</td>\n",
       "      <td>1</td>\n",
       "      <td>800</td>\n",
       "      <td>51800</td>\n",
       "      <td>0.648525</td>\n",
       "      <td>0.970832</td>\n",
       "      <td>0.699241</td>\n",
       "      <td>0.844724</td>\n",
       "      <td>0.774918</td>\n",
       "      <td>0.474918</td>\n",
       "      <td>3</td>\n",
       "      <td>39</td>\n",
       "      <td>1</td>\n",
       "      <td>0</td>\n",
       "      <td>0</td>\n",
       "    </tr>\n",
       "    <tr>\n",
       "      <th>17905</th>\n",
       "      <td>46</td>\n",
       "      <td>0</td>\n",
       "      <td>2685</td>\n",
       "      <td>0</td>\n",
       "      <td>5</td>\n",
       "      <td>1</td>\n",
       "      <td>1</td>\n",
       "      <td>1200</td>\n",
       "      <td>59650</td>\n",
       "      <td>0.677975</td>\n",
       "      <td>0.918141</td>\n",
       "      <td>0.687981</td>\n",
       "      <td>0.939101</td>\n",
       "      <td>0.472045</td>\n",
       "      <td>0.672045</td>\n",
       "      <td>9</td>\n",
       "      <td>97</td>\n",
       "      <td>0</td>\n",
       "      <td>0</td>\n",
       "      <td>1</td>\n",
       "    </tr>\n",
       "    <tr>\n",
       "      <th>17906</th>\n",
       "      <td>42</td>\n",
       "      <td>0</td>\n",
       "      <td>2515</td>\n",
       "      <td>0</td>\n",
       "      <td>3</td>\n",
       "      <td>5</td>\n",
       "      <td>1</td>\n",
       "      <td>400</td>\n",
       "      <td>80200</td>\n",
       "      <td>0.642741</td>\n",
       "      <td>0.885684</td>\n",
       "      <td>0.456448</td>\n",
       "      <td>0.686823</td>\n",
       "      <td>0.406568</td>\n",
       "      <td>0.406568</td>\n",
       "      <td>3</td>\n",
       "      <td>18</td>\n",
       "      <td>1</td>\n",
       "      <td>0</td>\n",
       "      <td>0</td>\n",
       "    </tr>\n",
       "    <tr>\n",
       "      <th>17907</th>\n",
       "      <td>29</td>\n",
       "      <td>1</td>\n",
       "      <td>2665</td>\n",
       "      <td>0</td>\n",
       "      <td>4</td>\n",
       "      <td>10</td>\n",
       "      <td>1</td>\n",
       "      <td>600</td>\n",
       "      <td>64950</td>\n",
       "      <td>0.720889</td>\n",
       "      <td>0.874372</td>\n",
       "      <td>0.505565</td>\n",
       "      <td>0.631619</td>\n",
       "      <td>0.846163</td>\n",
       "      <td>0.846163</td>\n",
       "      <td>4</td>\n",
       "      <td>16</td>\n",
       "      <td>0</td>\n",
       "      <td>0</td>\n",
       "      <td>1</td>\n",
       "    </tr>\n",
       "  </tbody>\n",
       "</table>\n",
       "</div>"
      ],
      "text/plain": [
       "       age  home_owner  income  months_employed  years_employed  \\\n",
       "17903   31           0    3245                0               5   \n",
       "17904   46           0    6525                0               2   \n",
       "17905   46           0    2685                0               5   \n",
       "17906   42           0    2515                0               3   \n",
       "17907   29           1    2665                0               4   \n",
       "\n",
       "       current_address_year  has_debt  amount_requested  risk_score  \\\n",
       "17903                     3         1               700       71700   \n",
       "17904                     1         1               800       51800   \n",
       "17905                     1         1              1200       59650   \n",
       "17906                     5         1               400       80200   \n",
       "17907                    10         1               600       64950   \n",
       "\n",
       "       risk_score_2  risk_score_3  risk_score_4  risk_score_5  \\\n",
       "17903      0.691126      0.928196      0.664112      0.838012   \n",
       "17904      0.648525      0.970832      0.699241      0.844724   \n",
       "17905      0.677975      0.918141      0.687981      0.939101   \n",
       "17906      0.642741      0.885684      0.456448      0.686823   \n",
       "17907      0.720889      0.874372      0.505565      0.631619   \n",
       "\n",
       "       ext_quality_score  ext_quality_score_2  inquiries_last_month  personal  \\\n",
       "17903           0.727705             0.627705                     2        74   \n",
       "17904           0.774918             0.474918                     3        39   \n",
       "17905           0.472045             0.672045                     9        97   \n",
       "17906           0.406568             0.406568                     3        18   \n",
       "17907           0.846163             0.846163                     4        16   \n",
       "\n",
       "       pay_schedule_bi-weekly  pay_schedule_monthly  pay_schedule_weekly  \n",
       "17903                       0                     1                    0  \n",
       "17904                       1                     0                    0  \n",
       "17905                       0                     0                    1  \n",
       "17906                       1                     0                    0  \n",
       "17907                       0                     0                    1  "
      ]
     },
     "execution_count": 11,
     "metadata": {},
     "output_type": "execute_result"
    }
   ],
   "source": [
    "data.tail()"
   ]
  },
  {
   "cell_type": "code",
   "execution_count": 12,
   "metadata": {},
   "outputs": [],
   "source": [
    "from sklearn.model_selection import train_test_split\n",
    "X_train, X_test, y_train, y_test = train_test_split(data,\n",
    "                                                   response,\n",
    "                                                   test_size=.2,\n",
    "                                                   random_state=0)"
   ]
  },
  {
   "cell_type": "code",
   "execution_count": 13,
   "metadata": {},
   "outputs": [
    {
     "name": "stderr",
     "output_type": "stream",
     "text": [
      "C:\\Users\\home\\Anaconda3\\lib\\site-packages\\sklearn\\preprocessing\\data.py:625: DataConversionWarning: Data with input dtype uint8, int64, float64 were all converted to float64 by StandardScaler.\n",
      "  return self.partial_fit(X, y)\n",
      "C:\\Users\\home\\Anaconda3\\lib\\site-packages\\sklearn\\base.py:462: DataConversionWarning: Data with input dtype uint8, int64, float64 were all converted to float64 by StandardScaler.\n",
      "  return self.fit(X, **fit_params).transform(X)\n",
      "C:\\Users\\home\\Anaconda3\\lib\\site-packages\\ipykernel_launcher.py:5: DataConversionWarning: Data with input dtype uint8, int64, float64 were all converted to float64 by StandardScaler.\n",
      "  \"\"\"\n"
     ]
    }
   ],
   "source": [
    "# feature scaling\n",
    "from sklearn.preprocessing import StandardScaler\n",
    "sc = StandardScaler()\n",
    "X_train2 = pd.DataFrame(sc.fit_transform(X_train))\n",
    "X_test2 = pd.DataFrame(sc.transform(X_test))\n",
    "X_train2.columns = X_train.columns.values\n",
    "X_test2.columns = X_test2.columns.values\n",
    "X_train2.index = X_train.index.values\n",
    "X_test2.index = X_test.index.values\n",
    "X_train = X_train2\n",
    "X_test = X_test2"
   ]
  },
  {
   "cell_type": "markdown",
   "metadata": {},
   "source": [
    "# Model Building"
   ]
  },
  {
   "cell_type": "code",
   "execution_count": 14,
   "metadata": {},
   "outputs": [
    {
     "name": "stderr",
     "output_type": "stream",
     "text": [
      "C:\\Users\\home\\Anaconda3\\lib\\site-packages\\sklearn\\linear_model\\logistic.py:433: FutureWarning: Default solver will be changed to 'lbfgs' in 0.22. Specify a solver to silence this warning.\n",
      "  FutureWarning)\n"
     ]
    },
    {
     "data": {
      "image/png": "[encoded data removed]",
      "text/plain": [
       "<Figure size 432x288 with 2 Axes>"
      ]
     },
     "metadata": {},
     "output_type": "display_data"
    }
   ],
   "source": [
    "# logistic Regressin\n",
    "from sklearn.linear_model import LogisticRegression\n",
    "classifier =LogisticRegression(random_state=0,penalty='l1')\n",
    "classifier.fit(X_train,y_train)\n",
    "y_pred=classifier.predict(X_test)\n",
    "from sklearn.metrics import classification_report,confusion_matrix,f1_score,recall_score,precision_score,accuracy_score\n",
    "cm=confusion_matrix(y_test,y_pred)\n",
    "sn.heatmap(cm,annot=True)\n",
    "#acc=(classification_report(y_test,y_pred))\n",
    "acc=(accuracy_score(y_test,y_pred))\n",
    "precision=(precision_score(y_test,y_pred))\n",
    "recall=(recall_score(y_test,y_pred))\n",
    "f1=(f1_score(y_test,y_pred))\n",
    "results=pd.DataFrame([[\"lasso\",acc,precision,recall,f1]],columns=['model','acc','precision','recall','f1'])"
   ]
  },
  {
   "cell_type": "markdown",
   "metadata": {},
   "source": [
    "# svm"
   ]
  },
  {
   "cell_type": "code",
   "execution_count": 15,
   "metadata": {},
   "outputs": [
    {
     "data": {
      "image/png": "[encoded data removed]",
      "text/plain": [
       "<Figure size 432x288 with 2 Axes>"
      ]
     },
     "metadata": {},
     "output_type": "display_data"
    }
   ],
   "source": [
    "from sklearn.svm import SVC\n",
    "\n",
    "classifier =SVC(random_state=0,kernel='linear')\n",
    "classifier.fit(X_train,y_train)\n",
    "y_pred=classifier.predict(X_test)\n",
    "from sklearn.metrics import classification_report,confusion_matrix,f1_score,recall_score,precision_score,accuracy_score\n",
    "cm=confusion_matrix(y_test,y_pred)\n",
    "sn.heatmap(cm,annot=True)\n",
    "#acc=(classification_report(y_test,y_pred))\n",
    "acc=(accuracy_score(y_test,y_pred))\n",
    "precision=(precision_score(y_test,y_pred))\n",
    "recall=(recall_score(y_test,y_pred))\n",
    "f1=(f1_score(y_test,y_pred))\n",
    "model_results=pd.DataFrame([[\"svm\",acc,precision,recall,f1]],columns=['model','acc','precision','recall','f1'])"
   ]
  },
  {
   "cell_type": "code",
   "execution_count": 16,
   "metadata": {},
   "outputs": [],
   "source": [
    "results=results.append(model_results)\n"
   ]
  },
  {
   "cell_type": "code",
   "execution_count": 17,
   "metadata": {},
   "outputs": [
    {
     "data": {
      "image/png": "[encoded data removed]",
      "text/plain": [
       "<Figure size 432x288 with 2 Axes>"
      ]
     },
     "metadata": {},
     "output_type": "display_data"
    }
   ],
   "source": [
    "from sklearn.svm import SVC\n",
    "\n",
    "classifier =SVC(random_state=0,kernel='rbf')\n",
    "classifier.fit(X_train,y_train)\n",
    "y_pred=classifier.predict(X_test)\n",
    "from sklearn.metrics import classification_report,confusion_matrix,f1_score,recall_score,precision_score,accuracy_score\n",
    "cm=confusion_matrix(y_test,y_pred)\n",
    "sn.heatmap(cm,annot=True)\n",
    "r=(classification_report(y_test,y_pred))\n",
    "acc=(accuracy_score(y_test,y_pred))\n",
    "precision=(precision_score(y_test,y_pred))\n",
    "recall=(recall_score(y_test,y_pred))\n",
    "f1=(f1_score(y_test,y_pred))\n",
    "model_svm_rbf=pd.DataFrame([[\"svm rbf\",acc,precision,recall,f1]],columns=['model','acc','precision','recall','f1'])"
   ]
  },
  {
   "cell_type": "code",
   "execution_count": 18,
   "metadata": {},
   "outputs": [
    {
     "data": {
      "text/html": [
       "<div>\n",
       "<style scoped>\n",
       "    .dataframe tbody tr th:only-of-type {\n",
       "        vertical-align: middle;\n",
       "    }\n",
       "\n",
       "    .dataframe tbody tr th {\n",
       "        vertical-align: top;\n",
       "    }\n",
       "\n",
       "    .dataframe thead th {\n",
       "        text-align: right;\n",
       "    }\n",
       "</style>\n",
       "<table border=\"1\" class=\"dataframe\">\n",
       "  <thead>\n",
       "    <tr style=\"text-align: right;\">\n",
       "      <th></th>\n",
       "      <th>model</th>\n",
       "      <th>acc</th>\n",
       "      <th>precision</th>\n",
       "      <th>recall</th>\n",
       "      <th>f1</th>\n",
       "    </tr>\n",
       "  </thead>\n",
       "  <tbody>\n",
       "    <tr>\n",
       "      <th>0</th>\n",
       "      <td>lasso</td>\n",
       "      <td>0.562256</td>\n",
       "      <td>0.576271</td>\n",
       "      <td>0.705394</td>\n",
       "      <td>0.634328</td>\n",
       "    </tr>\n",
       "    <tr>\n",
       "      <th>0</th>\n",
       "      <td>svm</td>\n",
       "      <td>0.568956</td>\n",
       "      <td>0.578240</td>\n",
       "      <td>0.735996</td>\n",
       "      <td>0.647649</td>\n",
       "    </tr>\n",
       "    <tr>\n",
       "      <th>0</th>\n",
       "      <td>svm rbf</td>\n",
       "      <td>0.592686</td>\n",
       "      <td>0.605678</td>\n",
       "      <td>0.697095</td>\n",
       "      <td>0.648179</td>\n",
       "    </tr>\n",
       "  </tbody>\n",
       "</table>\n",
       "</div>"
      ],
      "text/plain": [
       "     model       acc  precision    recall        f1\n",
       "0    lasso  0.562256   0.576271  0.705394  0.634328\n",
       "0      svm  0.568956   0.578240  0.735996  0.647649\n",
       "0  svm rbf  0.592686   0.605678  0.697095  0.648179"
      ]
     },
     "execution_count": 18,
     "metadata": {},
     "output_type": "execute_result"
    }
   ],
   "source": [
    "results=results.append(model_svm_rbf)\n",
    "results\n"
   ]
  },
  {
   "cell_type": "code",
   "execution_count": 19,
   "metadata": {},
   "outputs": [
    {
     "data": {
      "image/png": "[encoded data removed]",
      "text/plain": [
       "<Figure size 432x288 with 2 Axes>"
      ]
     },
     "metadata": {},
     "output_type": "display_data"
    }
   ],
   "source": [
    "from sklearn.ensemble import RandomForestClassifier\n",
    "\n",
    "classifier =RandomForestClassifier(random_state=0,n_estimators=100,criterion='entropy')\n",
    "classifier.fit(X_train,y_train)\n",
    "y_pred=classifier.predict(X_test)\n",
    "from sklearn.metrics import classification_report,confusion_matrix,f1_score,recall_score,precision_score,accuracy_score\n",
    "cm=confusion_matrix(y_test,y_pred)\n",
    "sn.heatmap(cm,annot=True)\n",
    "r=(classification_report(y_test,y_pred))\n",
    "acc=(accuracy_score(y_test,y_pred))\n",
    "precision=(precision_score(y_test,y_pred))\n",
    "recall=(recall_score(y_test,y_pred))\n",
    "f1=(f1_score(y_test,y_pred))\n",
    "model_random_forest=pd.DataFrame([[\"random forest n=100\",acc,precision,recall,f1]],columns=['model','acc','precision','recall','f1'])"
   ]
  },
  {
   "cell_type": "code",
   "execution_count": 20,
   "metadata": {},
   "outputs": [
    {
     "data": {
      "text/html": [
       "<div>\n",
       "<style scoped>\n",
       "    .dataframe tbody tr th:only-of-type {\n",
       "        vertical-align: middle;\n",
       "    }\n",
       "\n",
       "    .dataframe tbody tr th {\n",
       "        vertical-align: top;\n",
       "    }\n",
       "\n",
       "    .dataframe thead th {\n",
       "        text-align: right;\n",
       "    }\n",
       "</style>\n",
       "<table border=\"1\" class=\"dataframe\">\n",
       "  <thead>\n",
       "    <tr style=\"text-align: right;\">\n",
       "      <th></th>\n",
       "      <th>model</th>\n",
       "      <th>acc</th>\n",
       "      <th>precision</th>\n",
       "      <th>recall</th>\n",
       "      <th>f1</th>\n",
       "    </tr>\n",
       "  </thead>\n",
       "  <tbody>\n",
       "    <tr>\n",
       "      <th>0</th>\n",
       "      <td>lasso</td>\n",
       "      <td>0.562256</td>\n",
       "      <td>0.576271</td>\n",
       "      <td>0.705394</td>\n",
       "      <td>0.634328</td>\n",
       "    </tr>\n",
       "    <tr>\n",
       "      <th>0</th>\n",
       "      <td>svm</td>\n",
       "      <td>0.568956</td>\n",
       "      <td>0.578240</td>\n",
       "      <td>0.735996</td>\n",
       "      <td>0.647649</td>\n",
       "    </tr>\n",
       "    <tr>\n",
       "      <th>0</th>\n",
       "      <td>svm rbf</td>\n",
       "      <td>0.592686</td>\n",
       "      <td>0.605678</td>\n",
       "      <td>0.697095</td>\n",
       "      <td>0.648179</td>\n",
       "    </tr>\n",
       "    <tr>\n",
       "      <th>0</th>\n",
       "      <td>random forest n=100</td>\n",
       "      <td>0.638470</td>\n",
       "      <td>0.657698</td>\n",
       "      <td>0.684647</td>\n",
       "      <td>0.670902</td>\n",
       "    </tr>\n",
       "  </tbody>\n",
       "</table>\n",
       "</div>"
      ],
      "text/plain": [
       "                 model       acc  precision    recall        f1\n",
       "0                lasso  0.562256   0.576271  0.705394  0.634328\n",
       "0                  svm  0.568956   0.578240  0.735996  0.647649\n",
       "0              svm rbf  0.592686   0.605678  0.697095  0.648179\n",
       "0  random forest n=100  0.638470   0.657698  0.684647  0.670902"
      ]
     },
     "execution_count": 20,
     "metadata": {},
     "output_type": "execute_result"
    }
   ],
   "source": [
    "results=results.append(model_random_forest)\n",
    "results\n"
   ]
  },
  {
   "cell_type": "markdown",
   "metadata": {},
   "source": [
    "# parameter tuning using random forest grid search"
   ]
  },
  {
   "cell_type": "code",
   "execution_count": 25,
   "metadata": {},
   "outputs": [
    {
     "name": "stdout",
     "output_type": "stream",
     "text": [
      "Took 3726.89 seconds\n"
     ]
    },
    {
     "data": {
      "text/plain": [
       "(0.6366745776909116,\n",
       " {'bootstrap': True,\n",
       "  'criterion': 'entropy',\n",
       "  'max_depth': None,\n",
       "  'max_features': 10,\n",
       "  'min_samples_leaf': 5,\n",
       "  'min_samples_split': 2})"
      ]
     },
     "execution_count": 25,
     "metadata": {},
     "output_type": "execute_result"
    }
   ],
   "source": [
    "# Grid Search\n",
    "parameters = {\"max_depth\": [3, None],\n",
    "              \"max_features\": [1, 5, 10],\n",
    "              'min_samples_split': [2, 5, 10],\n",
    "              'min_samples_leaf': [1, 5, 10],\n",
    "              \"bootstrap\": [True, False],\n",
    "              \"criterion\": [\"entropy\"]}\n",
    "\n",
    "from sklearn.model_selection import GridSearchCV\n",
    "grid_search = GridSearchCV(estimator = classifier, # Make sure classifier points to the RF model\n",
    "                           param_grid = parameters,\n",
    "                           scoring = \"accuracy\",\n",
    "                           cv = 10,\n",
    "                           n_jobs = -1)\n",
    "\n",
    "t0 = time.time()\n",
    "grid_search = grid_search.fit(X_train, y_train)\n",
    "t1 = time.time()\n",
    "print(\"Took %0.2f seconds\" % (t1 - t0))\n",
    "\n",
    "rf_best_accuracy = grid_search.best_score_\n",
    "rf_best_parameters = grid_search.best_params_\n",
    "rf_best_accuracy, rf_best_parameters"
   ]
  },
  {
   "cell_type": "code",
   "execution_count": 26,
   "metadata": {},
   "outputs": [
    {
     "data": {
      "text/plain": [
       "(0.6366745776909116,\n",
       " {'bootstrap': True,\n",
       "  'criterion': 'entropy',\n",
       "  'max_depth': None,\n",
       "  'max_features': 10,\n",
       "  'min_samples_leaf': 5,\n",
       "  'min_samples_split': 2})"
      ]
     },
     "execution_count": 26,
     "metadata": {},
     "output_type": "execute_result"
    }
   ],
   "source": [
    "rf_best_acc=grid_search.best_score_\n",
    "rf_best_para=grid_search.best_params_\n",
    "rf_best_acc,rf_best_para"
   ]
  },
  {
   "cell_type": "code",
   "execution_count": 29,
   "metadata": {},
   "outputs": [
    {
     "data": {
      "image/png": "[encoded data removed]",
      "text/plain": [
       "<Figure size 432x288 with 2 Axes>"
      ]
     },
     "metadata": {},
     "output_type": "display_data"
    }
   ],
   "source": [
    "y_pred=grid_search.predict(X_test)\n",
    "from sklearn.metrics import classification_report,confusion_matrix,f1_score,recall_score,precision_score,accuracy_score\n",
    "cm=confusion_matrix(y_test,y_pred)\n",
    "sn.heatmap(cm,annot=True)\n",
    "r=(classification_report(y_test,y_pred))\n",
    "acc=(accuracy_score(y_test,y_pred))\n",
    "precision=(precision_score(y_test,y_pred))\n",
    "recall=(recall_score(y_test,y_pred))\n",
    "f1=(f1_score(y_test,y_pred))\n",
    "model_random_forest_fine_tune=pd.DataFrame([[\"random forest n=100,grid search\",acc,precision,recall,f1]],columns=['model','acc','precision','recall','f1'])"
   ]
  },
  {
   "cell_type": "code",
   "execution_count": 30,
   "metadata": {},
   "outputs": [
    {
     "data": {
      "text/html": [
       "<div>\n",
       "<style scoped>\n",
       "    .dataframe tbody tr th:only-of-type {\n",
       "        vertical-align: middle;\n",
       "    }\n",
       "\n",
       "    .dataframe tbody tr th {\n",
       "        vertical-align: top;\n",
       "    }\n",
       "\n",
       "    .dataframe thead th {\n",
       "        text-align: right;\n",
       "    }\n",
       "</style>\n",
       "<table border=\"1\" class=\"dataframe\">\n",
       "  <thead>\n",
       "    <tr style=\"text-align: right;\">\n",
       "      <th></th>\n",
       "      <th>model</th>\n",
       "      <th>acc</th>\n",
       "      <th>precision</th>\n",
       "      <th>recall</th>\n",
       "      <th>f1</th>\n",
       "    </tr>\n",
       "  </thead>\n",
       "  <tbody>\n",
       "    <tr>\n",
       "      <th>0</th>\n",
       "      <td>lasso</td>\n",
       "      <td>0.562256</td>\n",
       "      <td>0.576271</td>\n",
       "      <td>0.705394</td>\n",
       "      <td>0.634328</td>\n",
       "    </tr>\n",
       "    <tr>\n",
       "      <th>0</th>\n",
       "      <td>svm</td>\n",
       "      <td>0.568956</td>\n",
       "      <td>0.578240</td>\n",
       "      <td>0.735996</td>\n",
       "      <td>0.647649</td>\n",
       "    </tr>\n",
       "    <tr>\n",
       "      <th>0</th>\n",
       "      <td>svm rbf</td>\n",
       "      <td>0.592686</td>\n",
       "      <td>0.605678</td>\n",
       "      <td>0.697095</td>\n",
       "      <td>0.648179</td>\n",
       "    </tr>\n",
       "    <tr>\n",
       "      <th>0</th>\n",
       "      <td>random forest n=100</td>\n",
       "      <td>0.638470</td>\n",
       "      <td>0.657698</td>\n",
       "      <td>0.684647</td>\n",
       "      <td>0.670902</td>\n",
       "    </tr>\n",
       "    <tr>\n",
       "      <th>0</th>\n",
       "      <td>random forest n=100,gsv,entropy</td>\n",
       "      <td>0.630932</td>\n",
       "      <td>0.643330</td>\n",
       "      <td>0.705394</td>\n",
       "      <td>0.672934</td>\n",
       "    </tr>\n",
       "    <tr>\n",
       "      <th>0</th>\n",
       "      <td>random forest n=100,grid search</td>\n",
       "      <td>0.630932</td>\n",
       "      <td>0.643330</td>\n",
       "      <td>0.705394</td>\n",
       "      <td>0.672934</td>\n",
       "    </tr>\n",
       "  </tbody>\n",
       "</table>\n",
       "</div>"
      ],
      "text/plain": [
       "                             model       acc  precision    recall        f1\n",
       "0                            lasso  0.562256   0.576271  0.705394  0.634328\n",
       "0                              svm  0.568956   0.578240  0.735996  0.647649\n",
       "0                          svm rbf  0.592686   0.605678  0.697095  0.648179\n",
       "0              random forest n=100  0.638470   0.657698  0.684647  0.670902\n",
       "0  random forest n=100,gsv,entropy  0.630932   0.643330  0.705394  0.672934\n",
       "0  random forest n=100,grid search  0.630932   0.643330  0.705394  0.672934"
      ]
     },
     "execution_count": 30,
     "metadata": {},
     "output_type": "execute_result"
    }
   ],
   "source": [
    "results=results.append(model_random_forest_fine_tune)\n",
    "results"
   ]
  },
  {
   "cell_type": "code",
   "execution_count": null,
   "metadata": {},
   "outputs": [],
   "source": []
  },
  {
   "cell_type": "code",
   "execution_count": null,
   "metadata": {},
   "outputs": [],
   "source": []
  },
  {
   "cell_type": "markdown",
   "metadata": {},
   "source": []
  },
  {
   "cell_type": "code",
   "execution_count": null,
   "metadata": {},
   "outputs": [],
   "source": []
  },
  {
   "cell_type": "code",
   "execution_count": null,
   "metadata": {},
   "outputs": [],
   "source": []
  },
  {
   "cell_type": "code",
   "execution_count": null,
   "metadata": {},
   "outputs": [],
   "source": []
  },
  {
   "cell_type": "code",
   "execution_count": null,
   "metadata": {},
   "outputs": [],
   "source": []
  },
  {
   "cell_type": "code",
   "execution_count": null,
   "metadata": {},
   "outputs": [],
   "source": []
  },
  {
   "cell_type": "code",
   "execution_count": null,
   "metadata": {},
   "outputs": [],
   "source": []
  }
 ],
 "metadata": {
  "kernelspec": {
   "display_name": "Python 3",
   "language": "python",
   "name": "python3"
  },
  "language_info": {
   "codemirror_mode": {
    "name": "ipython",
    "version": 3
   },
   "file_extension": ".py",
   "mimetype": "text/x-python",
   "name": "python",
   "nbconvert_exporter": "python",
   "pygments_lexer": "ipython3",
   "version": "3.7.1"
  }
 },
 "nbformat": 4,
 "nbformat_minor": 2
}
